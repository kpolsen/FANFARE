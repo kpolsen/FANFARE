{
 "cells": [
  {
   "cell_type": "markdown",
   "metadata": {},
   "source": [
    "# Tutorial 0 - Creating a new dataset"
   ]
  },
  {
   "cell_type": "markdown",
   "metadata": {},
   "source": [
    "## Step 1: Import FANFARE source code"
   ]
  },
  {
   "cell_type": "code",
   "execution_count": 3,
   "metadata": {},
   "outputs": [
    {
     "name": "stdout",
     "output_type": "stream",
     "text": [
      "submodule \"power_class\" imported\n"
     ]
    }
   ],
   "source": [
    "import source as sc"
   ]
  },
  {
   "cell_type": "markdown",
   "metadata": {},
   "source": [
    "## Step 2: Load data\n",
    "First, we start an object that will contain the data to be used. \n",
    "### Option 1: Downloading Energinet data\n",
    "To download Energinet data for DK1 and DK2, data_type must be set to 'energinet'. In this example a file name is supplied which will make sure that the data is stored to avoid the download next time:"
   ]
  },
  {
   "cell_type": "code",
   "execution_count": 75,
   "metadata": {},
   "outputs": [
    {
     "name": "stdout",
     "output_type": "stream",
     "text": [
      "submodule \"power_class\" imported\n",
      "Reading in new dataset\n",
      "Data type: energinet\n",
      "Downloading Electricity Balance data from energidataservice.dk - this may take a while\n",
      "Found duplicates at:\n",
      "2011-10-30T02:00:00\n",
      "2012-10-28T02:00:00\n",
      "2013-10-27T02:00:00\n",
      "2014-10-26T02:00:00\n",
      "2015-10-25T02:00:00\n",
      "2016-10-30T02:00:00\n",
      "2017-10-29T02:00:00\n",
      "Removed duplicates\n",
      "Saving new data for next time at\n",
      "data/energinet_all\n"
     ]
    }
   ],
   "source": [
    "data_ob = sc.PowerData(data_type='energinet',file_name='energinet_all',line_limit=200000)"
   ]
  },
  {
   "cell_type": "markdown",
   "metadata": {},
   "source": [
    "Now the data has been stored in a dataframe which is an attribute to data_ob. \n",
    "For convenience this file is also included in the release of this code, and can be reloaded, see below."
   ]
  },
  {
   "cell_type": "markdown",
   "metadata": {},
   "source": [
    "### Option 2: Loading your own dataset\n",
    "If you want to run the code on your own dataset, save your data in a dataframe and make sure to set the keyword load=True and supply a file name. As an example, here we load the dataset stored above, for year 2018:"
   ]
  },
  {
   "cell_type": "code",
   "execution_count": 76,
   "metadata": {
    "scrolled": false
   },
   "outputs": [
    {
     "name": "stdout",
     "output_type": "stream",
     "text": [
      "Loading previously stored dataset\n",
      "Could not estimate residual load, one of the following columns were missing: \n",
      "GrossCon, WindPowerProd, SolarPowerProd\n",
      "(if data_type = \"energinet\", this is fine, ResLoad_DK, ResLoad_DK1, ResLoad_DK2 should be there)\n"
     ]
    }
   ],
   "source": [
    "data_ob = sc.PowerData(load=True,file_name='energinet_all',year='2018')"
   ]
  },
  {
   "cell_type": "markdown",
   "metadata": {},
   "source": [
    "*OBS: IF you are creating and loading your own dataframe*, make sure the dataframe contains the following columns:\n",
    "- datetime: time stamps in pandas datetime64[ns] format\n",
    "- GrossCon: gross electricity consumption [MW]\n",
    "- ResLoad: Residual load [MW]\n",
    "- WindPowerProd: Wind power production [MW]\n",
    "- SolarPowerProd: Solar power production [MW]"
   ]
  },
  {
   "cell_type": "markdown",
   "metadata": {},
   "source": [
    "### Checking your dataset\n",
    "To check out the head and tail of the dataset, use:"
   ]
  },
  {
   "cell_type": "code",
   "execution_count": 77,
   "metadata": {},
   "outputs": [
    {
     "data": {
      "text/html": [
       "<div>\n",
       "<style scoped>\n",
       "    .dataframe tbody tr th:only-of-type {\n",
       "        vertical-align: middle;\n",
       "    }\n",
       "\n",
       "    .dataframe tbody tr th {\n",
       "        vertical-align: top;\n",
       "    }\n",
       "\n",
       "    .dataframe thead th {\n",
       "        text-align: right;\n",
       "    }\n",
       "</style>\n",
       "<table border=\"1\" class=\"dataframe\">\n",
       "  <thead>\n",
       "    <tr style=\"text-align: right;\">\n",
       "      <th></th>\n",
       "      <th>datetime</th>\n",
       "      <th>GrossCon_DK</th>\n",
       "      <th>SolarPowerProd_DK</th>\n",
       "      <th>WindPowerProd_DK</th>\n",
       "      <th>GrossCon_DK1</th>\n",
       "      <th>SolarPowerProd_DK1</th>\n",
       "      <th>WindPowerProd_DK1</th>\n",
       "      <th>GrossCon_DK2</th>\n",
       "      <th>SolarPowerProd_DK2</th>\n",
       "      <th>WindPowerProd_DK2</th>\n",
       "      <th>ResLoad_DK</th>\n",
       "      <th>ResLoad_DK1</th>\n",
       "      <th>ResLoad_DK2</th>\n",
       "      <th>delta_time</th>\n",
       "      <th>time_steps</th>\n",
       "    </tr>\n",
       "  </thead>\n",
       "  <tbody>\n",
       "    <tr>\n",
       "      <th>0</th>\n",
       "      <td>2018-01-01 00:00:00</td>\n",
       "      <td>3269.887193</td>\n",
       "      <td>0.0</td>\n",
       "      <td>2284.549790</td>\n",
       "      <td>1914.768168</td>\n",
       "      <td>0.0</td>\n",
       "      <td>1797.443539</td>\n",
       "      <td>1355.119025</td>\n",
       "      <td>0.0</td>\n",
       "      <td>487.106251</td>\n",
       "      <td>985.337403</td>\n",
       "      <td>117.324629</td>\n",
       "      <td>868.012774</td>\n",
       "      <td>220924800.0</td>\n",
       "      <td>3600.0</td>\n",
       "    </tr>\n",
       "    <tr>\n",
       "      <th>1</th>\n",
       "      <td>2018-01-01 01:00:00</td>\n",
       "      <td>3159.608981</td>\n",
       "      <td>0.0</td>\n",
       "      <td>2287.054348</td>\n",
       "      <td>1850.009270</td>\n",
       "      <td>0.0</td>\n",
       "      <td>1833.770370</td>\n",
       "      <td>1309.599711</td>\n",
       "      <td>0.0</td>\n",
       "      <td>453.283978</td>\n",
       "      <td>872.554633</td>\n",
       "      <td>16.238900</td>\n",
       "      <td>856.315733</td>\n",
       "      <td>220928400.0</td>\n",
       "      <td>3600.0</td>\n",
       "    </tr>\n",
       "    <tr>\n",
       "      <th>2</th>\n",
       "      <td>2018-01-01 02:00:00</td>\n",
       "      <td>3036.900023</td>\n",
       "      <td>0.0</td>\n",
       "      <td>2144.576052</td>\n",
       "      <td>1775.170172</td>\n",
       "      <td>0.0</td>\n",
       "      <td>1587.734620</td>\n",
       "      <td>1261.729851</td>\n",
       "      <td>0.0</td>\n",
       "      <td>556.841432</td>\n",
       "      <td>892.323971</td>\n",
       "      <td>187.435552</td>\n",
       "      <td>704.888419</td>\n",
       "      <td>220932000.0</td>\n",
       "      <td>3600.0</td>\n",
       "    </tr>\n",
       "    <tr>\n",
       "      <th>3</th>\n",
       "      <td>2018-01-01 03:00:00</td>\n",
       "      <td>2947.233065</td>\n",
       "      <td>0.0</td>\n",
       "      <td>2225.431576</td>\n",
       "      <td>1723.813080</td>\n",
       "      <td>0.0</td>\n",
       "      <td>1607.496898</td>\n",
       "      <td>1223.419985</td>\n",
       "      <td>0.0</td>\n",
       "      <td>617.934678</td>\n",
       "      <td>721.801489</td>\n",
       "      <td>116.316182</td>\n",
       "      <td>605.485307</td>\n",
       "      <td>220935600.0</td>\n",
       "      <td>3600.0</td>\n",
       "    </tr>\n",
       "    <tr>\n",
       "      <th>4</th>\n",
       "      <td>2018-01-01 04:00:00</td>\n",
       "      <td>2892.396232</td>\n",
       "      <td>0.0</td>\n",
       "      <td>2264.864407</td>\n",
       "      <td>1695.866947</td>\n",
       "      <td>0.0</td>\n",
       "      <td>1640.890225</td>\n",
       "      <td>1196.529285</td>\n",
       "      <td>0.0</td>\n",
       "      <td>623.974182</td>\n",
       "      <td>627.531825</td>\n",
       "      <td>54.976722</td>\n",
       "      <td>572.555103</td>\n",
       "      <td>220939200.0</td>\n",
       "      <td>3600.0</td>\n",
       "    </tr>\n",
       "  </tbody>\n",
       "</table>\n",
       "</div>"
      ],
      "text/plain": [
       "             datetime  GrossCon_DK  SolarPowerProd_DK  WindPowerProd_DK  \\\n",
       "0 2018-01-01 00:00:00  3269.887193                0.0       2284.549790   \n",
       "1 2018-01-01 01:00:00  3159.608981                0.0       2287.054348   \n",
       "2 2018-01-01 02:00:00  3036.900023                0.0       2144.576052   \n",
       "3 2018-01-01 03:00:00  2947.233065                0.0       2225.431576   \n",
       "4 2018-01-01 04:00:00  2892.396232                0.0       2264.864407   \n",
       "\n",
       "   GrossCon_DK1  SolarPowerProd_DK1  WindPowerProd_DK1  GrossCon_DK2  \\\n",
       "0   1914.768168                 0.0        1797.443539   1355.119025   \n",
       "1   1850.009270                 0.0        1833.770370   1309.599711   \n",
       "2   1775.170172                 0.0        1587.734620   1261.729851   \n",
       "3   1723.813080                 0.0        1607.496898   1223.419985   \n",
       "4   1695.866947                 0.0        1640.890225   1196.529285   \n",
       "\n",
       "   SolarPowerProd_DK2  WindPowerProd_DK2  ResLoad_DK  ResLoad_DK1  \\\n",
       "0                 0.0         487.106251  985.337403   117.324629   \n",
       "1                 0.0         453.283978  872.554633    16.238900   \n",
       "2                 0.0         556.841432  892.323971   187.435552   \n",
       "3                 0.0         617.934678  721.801489   116.316182   \n",
       "4                 0.0         623.974182  627.531825    54.976722   \n",
       "\n",
       "   ResLoad_DK2   delta_time  time_steps  \n",
       "0   868.012774  220924800.0      3600.0  \n",
       "1   856.315733  220928400.0      3600.0  \n",
       "2   704.888419  220932000.0      3600.0  \n",
       "3   605.485307  220935600.0      3600.0  \n",
       "4   572.555103  220939200.0      3600.0  "
      ]
     },
     "execution_count": 77,
     "metadata": {},
     "output_type": "execute_result"
    }
   ],
   "source": [
    "data_ob.data_df.head()"
   ]
  },
  {
   "cell_type": "code",
   "execution_count": 78,
   "metadata": {},
   "outputs": [
    {
     "data": {
      "text/html": [
       "<div>\n",
       "<style scoped>\n",
       "    .dataframe tbody tr th:only-of-type {\n",
       "        vertical-align: middle;\n",
       "    }\n",
       "\n",
       "    .dataframe tbody tr th {\n",
       "        vertical-align: top;\n",
       "    }\n",
       "\n",
       "    .dataframe thead th {\n",
       "        text-align: right;\n",
       "    }\n",
       "</style>\n",
       "<table border=\"1\" class=\"dataframe\">\n",
       "  <thead>\n",
       "    <tr style=\"text-align: right;\">\n",
       "      <th></th>\n",
       "      <th>datetime</th>\n",
       "      <th>GrossCon_DK</th>\n",
       "      <th>SolarPowerProd_DK</th>\n",
       "      <th>WindPowerProd_DK</th>\n",
       "      <th>GrossCon_DK1</th>\n",
       "      <th>SolarPowerProd_DK1</th>\n",
       "      <th>WindPowerProd_DK1</th>\n",
       "      <th>GrossCon_DK2</th>\n",
       "      <th>SolarPowerProd_DK2</th>\n",
       "      <th>WindPowerProd_DK2</th>\n",
       "      <th>ResLoad_DK</th>\n",
       "      <th>ResLoad_DK1</th>\n",
       "      <th>ResLoad_DK2</th>\n",
       "      <th>delta_time</th>\n",
       "      <th>time_steps</th>\n",
       "    </tr>\n",
       "  </thead>\n",
       "  <tbody>\n",
       "    <tr>\n",
       "      <th>8754</th>\n",
       "      <td>2018-12-31 19:00:00</td>\n",
       "      <td>4268.503876</td>\n",
       "      <td>0.0</td>\n",
       "      <td>4304.735548</td>\n",
       "      <td>2541.038148</td>\n",
       "      <td>0.0</td>\n",
       "      <td>3476.192489</td>\n",
       "      <td>1727.465728</td>\n",
       "      <td>0.0</td>\n",
       "      <td>828.543059</td>\n",
       "      <td>-36.231672</td>\n",
       "      <td>-935.154341</td>\n",
       "      <td>898.922669</td>\n",
       "      <td>252442800.0</td>\n",
       "      <td>3600.0</td>\n",
       "    </tr>\n",
       "    <tr>\n",
       "      <th>8755</th>\n",
       "      <td>2018-12-31 20:00:00</td>\n",
       "      <td>4011.373445</td>\n",
       "      <td>0.0</td>\n",
       "      <td>4197.116682</td>\n",
       "      <td>2417.518358</td>\n",
       "      <td>0.0</td>\n",
       "      <td>3298.266873</td>\n",
       "      <td>1593.855087</td>\n",
       "      <td>0.0</td>\n",
       "      <td>898.849809</td>\n",
       "      <td>-185.743237</td>\n",
       "      <td>-880.748515</td>\n",
       "      <td>695.005278</td>\n",
       "      <td>252446400.0</td>\n",
       "      <td>3600.0</td>\n",
       "    </tr>\n",
       "    <tr>\n",
       "      <th>8756</th>\n",
       "      <td>2018-12-31 21:00:00</td>\n",
       "      <td>3900.636079</td>\n",
       "      <td>0.0</td>\n",
       "      <td>3952.505899</td>\n",
       "      <td>2368.442536</td>\n",
       "      <td>0.0</td>\n",
       "      <td>3016.543442</td>\n",
       "      <td>1532.193543</td>\n",
       "      <td>0.0</td>\n",
       "      <td>935.962457</td>\n",
       "      <td>-51.869820</td>\n",
       "      <td>-648.100906</td>\n",
       "      <td>596.231086</td>\n",
       "      <td>252450000.0</td>\n",
       "      <td>3600.0</td>\n",
       "    </tr>\n",
       "    <tr>\n",
       "      <th>8757</th>\n",
       "      <td>2018-12-31 22:00:00</td>\n",
       "      <td>3720.453527</td>\n",
       "      <td>0.0</td>\n",
       "      <td>3665.420315</td>\n",
       "      <td>2256.244137</td>\n",
       "      <td>0.0</td>\n",
       "      <td>2842.107572</td>\n",
       "      <td>1464.209390</td>\n",
       "      <td>0.0</td>\n",
       "      <td>823.312743</td>\n",
       "      <td>55.033212</td>\n",
       "      <td>-585.863435</td>\n",
       "      <td>640.896647</td>\n",
       "      <td>252453600.0</td>\n",
       "      <td>3600.0</td>\n",
       "    </tr>\n",
       "    <tr>\n",
       "      <th>8758</th>\n",
       "      <td>2018-12-31 23:00:00</td>\n",
       "      <td>3624.301005</td>\n",
       "      <td>0.0</td>\n",
       "      <td>3712.322637</td>\n",
       "      <td>2216.525324</td>\n",
       "      <td>0.0</td>\n",
       "      <td>2890.511084</td>\n",
       "      <td>1407.775681</td>\n",
       "      <td>0.0</td>\n",
       "      <td>821.811553</td>\n",
       "      <td>-88.021632</td>\n",
       "      <td>-673.985760</td>\n",
       "      <td>585.964128</td>\n",
       "      <td>252457200.0</td>\n",
       "      <td>3600.0</td>\n",
       "    </tr>\n",
       "  </tbody>\n",
       "</table>\n",
       "</div>"
      ],
      "text/plain": [
       "                datetime  GrossCon_DK  SolarPowerProd_DK  WindPowerProd_DK  \\\n",
       "8754 2018-12-31 19:00:00  4268.503876                0.0       4304.735548   \n",
       "8755 2018-12-31 20:00:00  4011.373445                0.0       4197.116682   \n",
       "8756 2018-12-31 21:00:00  3900.636079                0.0       3952.505899   \n",
       "8757 2018-12-31 22:00:00  3720.453527                0.0       3665.420315   \n",
       "8758 2018-12-31 23:00:00  3624.301005                0.0       3712.322637   \n",
       "\n",
       "      GrossCon_DK1  SolarPowerProd_DK1  WindPowerProd_DK1  GrossCon_DK2  \\\n",
       "8754   2541.038148                 0.0        3476.192489   1727.465728   \n",
       "8755   2417.518358                 0.0        3298.266873   1593.855087   \n",
       "8756   2368.442536                 0.0        3016.543442   1532.193543   \n",
       "8757   2256.244137                 0.0        2842.107572   1464.209390   \n",
       "8758   2216.525324                 0.0        2890.511084   1407.775681   \n",
       "\n",
       "      SolarPowerProd_DK2  WindPowerProd_DK2  ResLoad_DK  ResLoad_DK1  \\\n",
       "8754                 0.0         828.543059  -36.231672  -935.154341   \n",
       "8755                 0.0         898.849809 -185.743237  -880.748515   \n",
       "8756                 0.0         935.962457  -51.869820  -648.100906   \n",
       "8757                 0.0         823.312743   55.033212  -585.863435   \n",
       "8758                 0.0         821.811553  -88.021632  -673.985760   \n",
       "\n",
       "      ResLoad_DK2   delta_time  time_steps  \n",
       "8754   898.922669  252442800.0      3600.0  \n",
       "8755   695.005278  252446400.0      3600.0  \n",
       "8756   596.231086  252450000.0      3600.0  \n",
       "8757   640.896647  252453600.0      3600.0  \n",
       "8758   585.964128  252457200.0      3600.0  "
      ]
     },
     "execution_count": 78,
     "metadata": {},
     "output_type": "execute_result"
    }
   ],
   "source": [
    "data_ob.data_df.tail()"
   ]
  },
  {
   "cell_type": "markdown",
   "metadata": {},
   "source": [
    "You can also get some general info, by using the method info() on the data object:"
   ]
  },
  {
   "cell_type": "code",
   "execution_count": 79,
   "metadata": {
    "scrolled": false
   },
   "outputs": [
    {
     "name": "stdout",
     "output_type": "stream",
     "text": [
      "\n",
      "--------\n",
      "Data object contains:\n",
      "8759 data points\n",
      "from 2018-01-01 00:00:00 to 2018-12-31 23:00:00\n",
      "Minimum time step: 3600.0 sec\n",
      "Maximum time step: 7200.0 sec\n",
      "For Bornholm:\n",
      "Could not find Bornholm data\n",
      "Most common time step: 3600.0 sec\n",
      "--------\n"
     ]
    },
    {
     "data": {
      "text/plain": [
       "(Timestamp('2018-01-01 00:00:00'), Timestamp('2018-12-31 23:00:00'))"
      ]
     },
     "execution_count": 79,
     "metadata": {},
     "output_type": "execute_result"
    }
   ],
   "source": [
    "data_ob.info()"
   ]
  },
  {
   "cell_type": "code",
   "execution_count": null,
   "metadata": {},
   "outputs": [],
   "source": []
  }
 ],
 "metadata": {
  "kernelspec": {
   "display_name": "Python 3",
   "language": "python",
   "name": "python3"
  },
  "language_info": {
   "codemirror_mode": {
    "name": "ipython",
    "version": 3
   },
   "file_extension": ".py",
   "mimetype": "text/x-python",
   "name": "python",
   "nbconvert_exporter": "python",
   "pygments_lexer": "ipython3",
   "version": "3.6.5"
  }
 },
 "nbformat": 4,
 "nbformat_minor": 2
}
