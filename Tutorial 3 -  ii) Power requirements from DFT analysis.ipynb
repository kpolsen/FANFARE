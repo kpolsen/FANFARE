{
 "cells": [
  {
   "cell_type": "markdown",
   "metadata": {},
   "source": [
    "# Tutorial 3 -  ii) Power requirements from DFT analysis\n",
    "## Step 1: Import FANFARE source code"
   ]
  },
  {
   "cell_type": "code",
   "execution_count": 1,
   "metadata": {},
   "outputs": [
    {
     "name": "stdout",
     "output_type": "stream",
     "text": [
      "submodule \"power_class\" imported\n",
      "fanfare submodule \"aux\" imported\n",
      "fanfare module import complete\n"
     ]
    }
   ],
   "source": [
    "import source as sc"
   ]
  },
  {
   "cell_type": "markdown",
   "metadata": {},
   "source": [
    "## Step 2: Load data\n",
    "Here we load a dataset downloaded from Energidataservice.dk (see Tutorial 0):"
   ]
  },
  {
   "cell_type": "code",
   "execution_count": 2,
   "metadata": {},
   "outputs": [
    {
     "name": "stdout",
     "output_type": "stream",
     "text": [
      "Loading previously stored dataset\n",
      "Could not estimate residual load, one of the following columns were missing: \n",
      "GrossCon, WindPowerProd, SolarPowerProd\n",
      "(if data_type = \"energinet\", this is fine, ResLoad_DK, ResLoad_DK1, ResLoad_DK2 should be there)\n"
     ]
    }
   ],
   "source": [
    "data_ob = sc.PowerData(load=True,file_name='energinet_all',year='2018')"
   ]
  },
  {
   "cell_type": "markdown",
   "metadata": {},
   "source": [
    "## Step 3: Decide on frequency setup\n",
    "Determine the frequency intervals in terms of timescales in hours, and write an equal number of labels to go with them:"
   ]
  },
  {
   "cell_type": "code",
   "execution_count": 3,
   "metadata": {},
   "outputs": [],
   "source": [
    "duration_cuts = [[0.25,5],[5,24],[24,7*24],[7*24,3*30*24],[3*30*24,1e6]] # hours\n",
    "labels = ['< 5 hrs',\\\n",
    "          '5 - 24 hrs',\\\n",
    "          '24 hrs - 1 week',\\\n",
    "          '1 week - 3 months',\\\n",
    "          '> 3 months']\n",
    "labels_verbose = ['Hourly','Intra-daily','Daily','Weekly','Seasonally']\n",
    "data_ob.SetFrequencySetup(duration_cuts=duration_cuts,labels=labels)"
   ]
  },
  {
   "cell_type": "markdown",
   "metadata": {},
   "source": [
    "## Step 4: Derive power requirements and plot as box plot"
   ]
  },
  {
   "cell_type": "code",
   "execution_count": 4,
   "metadata": {},
   "outputs": [],
   "source": [
    "power_req = data_ob.GetPowerReqFromiFFT(col_names=['ResLoad_DK'],verbose=False)"
   ]
  },
  {
   "cell_type": "code",
   "execution_count": 7,
   "metadata": {
    "scrolled": false
   },
   "outputs": [
    {
     "name": "stdout",
     "output_type": "stream",
     "text": [
      "submodule \"power_class\" imported\n"
     ]
    },
    {
     "data": {
      "image/png": "[encoded data removed]",
      "text/plain": [
       "<Figure size 720x432 with 1 Axes>"
      ]
     },
     "metadata": {},
     "output_type": "display_data"
    }
   ],
   "source": [
    "data_ob.PlotPowerReqFromiFFT(width=0.13,\\\n",
    "        matrices=[power_req],\\\n",
    "        col_names=['ResLoad_DK'],colors=['k'],\\\n",
    "        ls=['-'],\\\n",
    "        labels=['DK in 2018, real data'],\\\n",
    "        xlabels=labels_verbose,ylab='Residual Load, $L^{res}$ [MW]',\\\n",
    "        fig_name='power_req_DK_2018')"
   ]
  },
  {
   "cell_type": "code",
   "execution_count": null,
   "metadata": {},
   "outputs": [],
   "source": []
  }
 ],
 "metadata": {
  "kernelspec": {
   "display_name": "Python 3",
   "language": "python",
   "name": "python3"
  },
  "language_info": {
   "codemirror_mode": {
    "name": "ipython",
    "version": 3
   },
   "file_extension": ".py",
   "mimetype": "text/x-python",
   "name": "python",
   "nbconvert_exporter": "python",
   "pygments_lexer": "ipython3",
   "version": "3.6.5"
  }
 },
 "nbformat": 4,
 "nbformat_minor": 2
}
